{
  "nbformat": 4,
  "nbformat_minor": 0,
  "metadata": {
    "colab": {
      "provenance": []
    },
    "kernelspec": {
      "name": "python3",
      "display_name": "Python 3"
    }
  },
  "cells": [
    {
      "cell_type": "code",
      "metadata": {
        "id": "qZAAO9TXPrrk"
      },
      "source": [
        "import numpy as np\n",
        "import scipy\n",
        "from math import *"
      ],
      "execution_count": null,
      "outputs": []
    },
    {
      "cell_type": "markdown",
      "metadata": {
        "id": "wQdY-wGkPt1W"
      },
      "source": [
        "Create the vectors:\n",
        "\n",
        "p = [3.5,1,0.8,9]\n",
        "\n",
        "q = [2,4,8,0]\n"
      ]
    },
    {
      "cell_type": "code",
      "metadata": {
        "id": "K3954DZQQCT9",
        "colab": {
          "base_uri": "https://localhost:8080/"
        },
        "outputId": "d789be68-4532-42e2-d661-c0d004f15222"
      },
      "source": [
        "p = np.array([3.5,1,0.8,9])\n",
        "q = np.array([2,4,8,0])\n",
        "print('p = \\n',p)\n",
        "print('q = ',q)\n",
        "\n",
        "print(p.dtype)\n",
        "print(q.dtype)"
      ],
      "execution_count": null,
      "outputs": [
        {
          "output_type": "stream",
          "name": "stdout",
          "text": [
            "p = \n",
            " [3.5 1.  0.8 9. ]\n",
            "q =  [2 4 8 0]\n",
            "float64\n",
            "int64\n"
          ]
        }
      ]
    },
    {
      "cell_type": "markdown",
      "metadata": {
        "id": "CFHWBbLZQdda"
      },
      "source": [
        "Now, do the operations:\n",
        "\n",
        "v = p + q\n",
        "\n",
        "a = p(4th element) + q(2nd element)\n",
        "\n",
        "b = p(1st element:3rd element)\n",
        "\n",
        "w = [p,q] (concatenate p and q)"
      ]
    },
    {
      "cell_type": "code",
      "metadata": {
        "id": "lLPUUtY6RQ_w",
        "colab": {
          "base_uri": "https://localhost:8080/"
        },
        "outputId": "39232647-c9bb-4b8e-d8bb-989a3b489bda"
      },
      "source": [
        "v= p + q\n",
        "print('v=',v)\n",
        "\n",
        "a = p[3] + q[1]\n",
        "print('a=',a)\n",
        "\n",
        "b = p[0:3]\n",
        "print('b=',b)\n",
        "\n",
        "\n",
        "w = np.hstack((p,q))\n",
        "print('w=',w)\n"
      ],
      "execution_count": null,
      "outputs": [
        {
          "output_type": "stream",
          "name": "stdout",
          "text": [
            "v= [5.5 5.  8.8 9. ]\n",
            "a= 13.0\n",
            "b= [3.5 1.  0.8]\n",
            "w= [3.5 1.  0.8 9.  2.  4.  8.  0. ]\n"
          ]
        }
      ]
    },
    {
      "cell_type": "markdown",
      "metadata": {
        "id": "fLPViMPbRk3Z"
      },
      "source": [
        "Create and do the following operations\n",
        "\n",
        "M = matrix(4x6) of ones\n",
        "\n",
        "M2 = 2 x M\n",
        "\n",
        "Change the second line of M2 to  [2,1,4.5,0,9.3,7]\n",
        "\n",
        "M3 = transpose M2"
      ]
    },
    {
      "cell_type": "code",
      "metadata": {
        "id": "QthpKqUCT0Vr",
        "colab": {
          "base_uri": "https://localhost:8080/"
        },
        "outputId": "e0f52666-40c8-4d1d-f81c-2e55a8f50e03"
      },
      "source": [
        "M = np.ones((4,6))\n",
        "print('M =\\n', M)\n",
        "\n",
        "M2 = 2*M\n",
        "print('M2 = \\n', M2)\n",
        "\n",
        "M2[1] = [2,1,4.5,0,9.3,7]\n",
        "print('M2 = \\n', M2)\n",
        "\n",
        "M3 = np.transpose(M2)\n",
        "print('M3 = \\n', M3)\n"
      ],
      "execution_count": null,
      "outputs": [
        {
          "output_type": "stream",
          "name": "stdout",
          "text": [
            "M =\n",
            " [[1. 1. 1. 1. 1. 1.]\n",
            " [1. 1. 1. 1. 1. 1.]\n",
            " [1. 1. 1. 1. 1. 1.]\n",
            " [1. 1. 1. 1. 1. 1.]]\n",
            "M2 = \n",
            " [[2. 2. 2. 2. 2. 2.]\n",
            " [2. 2. 2. 2. 2. 2.]\n",
            " [2. 2. 2. 2. 2. 2.]\n",
            " [2. 2. 2. 2. 2. 2.]]\n",
            "M2 = \n",
            " [[2.  2.  2.  2.  2.  2. ]\n",
            " [2.  1.  4.5 0.  9.3 7. ]\n",
            " [2.  2.  2.  2.  2.  2. ]\n",
            " [2.  2.  2.  2.  2.  2. ]]\n",
            "M3 = \n",
            " [[2.  2.  2.  2. ]\n",
            " [2.  1.  2.  2. ]\n",
            " [2.  4.5 2.  2. ]\n",
            " [2.  0.  2.  2. ]\n",
            " [2.  9.3 2.  2. ]\n",
            " [2.  7.  2.  2. ]]\n"
          ]
        }
      ]
    },
    {
      "cell_type": "markdown",
      "metadata": {
        "id": "FsqDEuYmUC3r"
      },
      "source": [
        "Create the following matrices and do the operations:\n",
        "\n",
        ">\n",
        "$T = \\begin{bmatrix}\n",
        "1 & 0 & 0  & 4 \\\\\n",
        "0 & 1 & 0  & -1 \\\\\n",
        "0 & 0  & 1  & 3 \\\\\n",
        "0 & 0 & 0  & 1 \\\\\n",
        "\\end{bmatrix}$\n",
        "\n",
        "$R = \\begin{bmatrix}\n",
        "cos(90) & -sen(90) & 0  & 0 \\\\\n",
        "sen(90) & cos(90) & 0  & 0 \\\\\n",
        "0 & 0  & 1  & 0 \\\\\n",
        "0 & 0 & 0  & 1 \\\\\n",
        "\\end{bmatrix}$\n",
        "\n",
        "$v1 = [1,0,0,0]^T$\n",
        "\n",
        "$p = [1,3,0,1]^T$\n",
        "\n",
        "$obj = \\begin{bmatrix}\n",
        "0 & 1 & 1  & 0 \\\\\n",
        "0 & 0 & 1  & 1 \\\\\n",
        "0 & 0 & 0  & 0 \\\\\n",
        "1 & 1 & 1  & 1 \\\\\n",
        "\\end{bmatrix}$\n",
        "\n",
        "$p1 = T.p$\n",
        "\n",
        "$v2 = T.v1$\n",
        "\n",
        "$v3 = R.v1$\n",
        "\n",
        "$M1 = T.R$\n",
        "\n",
        "$M2 = R.T$\n",
        "\n",
        "$obj1 = T.obj$\n",
        "\n",
        "$obj2 = M1.obj$\n",
        "\n",
        "$obj3 = M2.obj$\n",
        "\n",
        "\n",
        "\n"
      ]
    },
    {
      "cell_type": "code",
      "metadata": {
        "id": "JwjILlBEYffP",
        "colab": {
          "base_uri": "https://localhost:8080/"
        },
        "outputId": "7f054084-6850-4075-b66a-30cf39e50ee1"
      },
      "source": [
        "# Using cos, sin and pi from numpy\n",
        "\n",
        "c = np.cos(np.pi/2)\n",
        "s = np.sin(np.pi/2)\n",
        "\n",
        "print(c)\n",
        "print(s)\n",
        "\n",
        "\n",
        "### Setting printing options\n",
        "np.set_printoptions(formatter={'float': lambda x: \"{0:0.3f}\".format(x)})\n",
        "np.set_printoptions(precision=3,suppress=True)\n",
        "\n",
        "\n",
        "# Using cos, sin and pi from the math library\n",
        "\n",
        "from math import cos, sin, pi\n",
        "\n",
        "c = cos(pi/2)\n",
        "s = sin(pi/2)\n",
        "\n",
        "print(c)\n",
        "print(s)\n",
        "\n",
        "# Create T\n",
        "T = np.array([[1,0,0,4],[0,1,0,-1],[0,0,1,3],[0,0,0,1]])\n",
        "print(T)\n",
        "\n",
        "# Create R\n",
        "ang = pi/2\n",
        "\n",
        "R = np.array([[cos(ang),-sin(ang),0,0],[sin(ang),cos(ang),0,0],[0,0,1,0],[0,0,0,1]])\n",
        "print(R)\n",
        "\n",
        "# Create v1, p and object\n",
        "#Different ways of creating a column vector\n",
        "v0 = np.array([[1],[0],[0],[0]])\n",
        "v1 = np.array([1,0,0,0]).reshape(-1,1)\n",
        "\n",
        "p = np.array([1,3,0,1])\n",
        "obj = np.array([[0,1,1,0],[0,0,1,1],[0,0,0,0],[1,1,1,1]])\n",
        "\n",
        "\n",
        "\n",
        "print('Vector v1:\\n', v1)\n",
        "print('Point p:\\n', p)\n",
        "print('Object:\\n', obj)\n",
        "\n",
        "# Translate p\n",
        "p1 = T@p\n",
        "print('Translated p:\\n', p1)\n",
        "\n",
        "# Rotate p\n",
        "p2 = R@p\n",
        "print('Rotated p:\\n', p2)\n",
        "\n",
        "# Translate v1\n",
        "v2 = T@v1\n",
        "print('Translated v1:\\n', v2)\n",
        "\n",
        "# Rotate v1\n",
        "v3 = R@v1\n",
        "print('Rotated v1:\\n', v3)\n",
        "\n",
        "# Create transforamations M1 and M2\n",
        "M1 = T@R\n",
        "M2 = R@T\n",
        "print('Matrix M1:\\n', M1)\n",
        "print('Matrix M2:\\n', M2)\n",
        "\n",
        "# Change the object\n",
        "obj1 = T@obj\n",
        "obj2 = M1@obj\n",
        "obj3 = M2@obj\n",
        "\n",
        "print('Object:\\n', obj)\n",
        "print('Translated Object:\\n', obj1)\n",
        "print('Transformed Object by M1:\\n', obj2)\n",
        "print('Transformed Object by M2:\\n', obj3)\n"
      ],
      "execution_count": null,
      "outputs": [
        {
          "output_type": "stream",
          "name": "stdout",
          "text": [
            "6.123233995736766e-17\n",
            "1.0\n",
            "6.123233995736766e-17\n",
            "1.0\n",
            "[[ 1  0  0  4]\n",
            " [ 0  1  0 -1]\n",
            " [ 0  0  1  3]\n",
            " [ 0  0  0  1]]\n",
            "[[ 0. -1.  0.  0.]\n",
            " [ 1.  0.  0.  0.]\n",
            " [ 0.  0.  1.  0.]\n",
            " [ 0.  0.  0.  1.]]\n",
            "Vector v1:\n",
            " [[1]\n",
            " [0]\n",
            " [0]\n",
            " [0]]\n",
            "Point p:\n",
            " [1 3 0 1]\n",
            "Object:\n",
            " [[0 1 1 0]\n",
            " [0 0 1 1]\n",
            " [0 0 0 0]\n",
            " [1 1 1 1]]\n",
            "Translated p:\n",
            " [5 2 3 1]\n",
            "Rotated p:\n",
            " [-3.  1.  0.  1.]\n",
            "Translated v1:\n",
            " [[1]\n",
            " [0]\n",
            " [0]\n",
            " [0]]\n",
            "Rotated v1:\n",
            " [[0.]\n",
            " [1.]\n",
            " [0.]\n",
            " [0.]]\n",
            "Matrix M1:\n",
            " [[ 0. -1.  0.  4.]\n",
            " [ 1.  0.  0. -1.]\n",
            " [ 0.  0.  1.  3.]\n",
            " [ 0.  0.  0.  1.]]\n",
            "Matrix M2:\n",
            " [[ 0. -1.  0.  1.]\n",
            " [ 1.  0.  0.  4.]\n",
            " [ 0.  0.  1.  3.]\n",
            " [ 0.  0.  0.  1.]]\n",
            "Object:\n",
            " [[0 1 1 0]\n",
            " [0 0 1 1]\n",
            " [0 0 0 0]\n",
            " [1 1 1 1]]\n",
            "Translated Object:\n",
            " [[ 4  5  5  4]\n",
            " [-1 -1  0  0]\n",
            " [ 3  3  3  3]\n",
            " [ 1  1  1  1]]\n",
            "Transformed Object by M1:\n",
            " [[ 4.  4.  3.  3.]\n",
            " [-1.  0.  0. -1.]\n",
            " [ 3.  3.  3.  3.]\n",
            " [ 1.  1.  1.  1.]]\n",
            "Transformed Object by M2:\n",
            " [[1. 1. 0. 0.]\n",
            " [4. 5. 5. 4.]\n",
            " [3. 3. 3. 3.]\n",
            " [1. 1. 1. 1.]]\n"
          ]
        }
      ]
    }
  ]
}